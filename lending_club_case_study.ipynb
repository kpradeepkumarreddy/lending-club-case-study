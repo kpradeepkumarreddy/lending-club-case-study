{
 "cells": [
  {
   "cell_type": "code",
   "execution_count": 1,
   "metadata": {},
   "outputs": [
    {
     "data": {
      "text/html": [
       "<div>\n",
       "<style scoped>\n",
       "    .dataframe tbody tr th:only-of-type {\n",
       "        vertical-align: middle;\n",
       "    }\n",
       "\n",
       "    .dataframe tbody tr th {\n",
       "        vertical-align: top;\n",
       "    }\n",
       "\n",
       "    .dataframe thead th {\n",
       "        text-align: right;\n",
       "    }\n",
       "</style>\n",
       "<table border=\"1\" class=\"dataframe\">\n",
       "  <thead>\n",
       "    <tr style=\"text-align: right;\">\n",
       "      <th></th>\n",
       "      <th>id</th>\n",
       "      <th>member_id</th>\n",
       "      <th>loan_amnt</th>\n",
       "      <th>funded_amnt</th>\n",
       "      <th>funded_amnt_inv</th>\n",
       "      <th>term</th>\n",
       "      <th>int_rate</th>\n",
       "      <th>installment</th>\n",
       "      <th>grade</th>\n",
       "      <th>sub_grade</th>\n",
       "      <th>...</th>\n",
       "      <th>num_tl_90g_dpd_24m</th>\n",
       "      <th>num_tl_op_past_12m</th>\n",
       "      <th>pct_tl_nvr_dlq</th>\n",
       "      <th>percent_bc_gt_75</th>\n",
       "      <th>pub_rec_bankruptcies</th>\n",
       "      <th>tax_liens</th>\n",
       "      <th>tot_hi_cred_lim</th>\n",
       "      <th>total_bal_ex_mort</th>\n",
       "      <th>total_bc_limit</th>\n",
       "      <th>total_il_high_credit_limit</th>\n",
       "    </tr>\n",
       "  </thead>\n",
       "  <tbody>\n",
       "    <tr>\n",
       "      <th>0</th>\n",
       "      <td>1077501</td>\n",
       "      <td>1296599</td>\n",
       "      <td>5000</td>\n",
       "      <td>5000</td>\n",
       "      <td>4975.0</td>\n",
       "      <td>36 months</td>\n",
       "      <td>10.65%</td>\n",
       "      <td>162.87</td>\n",
       "      <td>B</td>\n",
       "      <td>B2</td>\n",
       "      <td>...</td>\n",
       "      <td>NaN</td>\n",
       "      <td>NaN</td>\n",
       "      <td>NaN</td>\n",
       "      <td>NaN</td>\n",
       "      <td>0.0</td>\n",
       "      <td>0.0</td>\n",
       "      <td>NaN</td>\n",
       "      <td>NaN</td>\n",
       "      <td>NaN</td>\n",
       "      <td>NaN</td>\n",
       "    </tr>\n",
       "    <tr>\n",
       "      <th>1</th>\n",
       "      <td>1077430</td>\n",
       "      <td>1314167</td>\n",
       "      <td>2500</td>\n",
       "      <td>2500</td>\n",
       "      <td>2500.0</td>\n",
       "      <td>60 months</td>\n",
       "      <td>15.27%</td>\n",
       "      <td>59.83</td>\n",
       "      <td>C</td>\n",
       "      <td>C4</td>\n",
       "      <td>...</td>\n",
       "      <td>NaN</td>\n",
       "      <td>NaN</td>\n",
       "      <td>NaN</td>\n",
       "      <td>NaN</td>\n",
       "      <td>0.0</td>\n",
       "      <td>0.0</td>\n",
       "      <td>NaN</td>\n",
       "      <td>NaN</td>\n",
       "      <td>NaN</td>\n",
       "      <td>NaN</td>\n",
       "    </tr>\n",
       "    <tr>\n",
       "      <th>2</th>\n",
       "      <td>1077175</td>\n",
       "      <td>1313524</td>\n",
       "      <td>2400</td>\n",
       "      <td>2400</td>\n",
       "      <td>2400.0</td>\n",
       "      <td>36 months</td>\n",
       "      <td>15.96%</td>\n",
       "      <td>84.33</td>\n",
       "      <td>C</td>\n",
       "      <td>C5</td>\n",
       "      <td>...</td>\n",
       "      <td>NaN</td>\n",
       "      <td>NaN</td>\n",
       "      <td>NaN</td>\n",
       "      <td>NaN</td>\n",
       "      <td>0.0</td>\n",
       "      <td>0.0</td>\n",
       "      <td>NaN</td>\n",
       "      <td>NaN</td>\n",
       "      <td>NaN</td>\n",
       "      <td>NaN</td>\n",
       "    </tr>\n",
       "    <tr>\n",
       "      <th>3</th>\n",
       "      <td>1076863</td>\n",
       "      <td>1277178</td>\n",
       "      <td>10000</td>\n",
       "      <td>10000</td>\n",
       "      <td>10000.0</td>\n",
       "      <td>36 months</td>\n",
       "      <td>13.49%</td>\n",
       "      <td>339.31</td>\n",
       "      <td>C</td>\n",
       "      <td>C1</td>\n",
       "      <td>...</td>\n",
       "      <td>NaN</td>\n",
       "      <td>NaN</td>\n",
       "      <td>NaN</td>\n",
       "      <td>NaN</td>\n",
       "      <td>0.0</td>\n",
       "      <td>0.0</td>\n",
       "      <td>NaN</td>\n",
       "      <td>NaN</td>\n",
       "      <td>NaN</td>\n",
       "      <td>NaN</td>\n",
       "    </tr>\n",
       "    <tr>\n",
       "      <th>4</th>\n",
       "      <td>1075358</td>\n",
       "      <td>1311748</td>\n",
       "      <td>3000</td>\n",
       "      <td>3000</td>\n",
       "      <td>3000.0</td>\n",
       "      <td>60 months</td>\n",
       "      <td>12.69%</td>\n",
       "      <td>67.79</td>\n",
       "      <td>B</td>\n",
       "      <td>B5</td>\n",
       "      <td>...</td>\n",
       "      <td>NaN</td>\n",
       "      <td>NaN</td>\n",
       "      <td>NaN</td>\n",
       "      <td>NaN</td>\n",
       "      <td>0.0</td>\n",
       "      <td>0.0</td>\n",
       "      <td>NaN</td>\n",
       "      <td>NaN</td>\n",
       "      <td>NaN</td>\n",
       "      <td>NaN</td>\n",
       "    </tr>\n",
       "  </tbody>\n",
       "</table>\n",
       "<p>5 rows × 111 columns</p>\n",
       "</div>"
      ],
      "text/plain": [
       "        id  member_id  loan_amnt  funded_amnt  funded_amnt_inv        term  \\\n",
       "0  1077501    1296599       5000         5000           4975.0   36 months   \n",
       "1  1077430    1314167       2500         2500           2500.0   60 months   \n",
       "2  1077175    1313524       2400         2400           2400.0   36 months   \n",
       "3  1076863    1277178      10000        10000          10000.0   36 months   \n",
       "4  1075358    1311748       3000         3000           3000.0   60 months   \n",
       "\n",
       "  int_rate  installment grade sub_grade  ... num_tl_90g_dpd_24m  \\\n",
       "0   10.65%       162.87     B        B2  ...                NaN   \n",
       "1   15.27%        59.83     C        C4  ...                NaN   \n",
       "2   15.96%        84.33     C        C5  ...                NaN   \n",
       "3   13.49%       339.31     C        C1  ...                NaN   \n",
       "4   12.69%        67.79     B        B5  ...                NaN   \n",
       "\n",
       "  num_tl_op_past_12m pct_tl_nvr_dlq  percent_bc_gt_75 pub_rec_bankruptcies  \\\n",
       "0                NaN            NaN               NaN                  0.0   \n",
       "1                NaN            NaN               NaN                  0.0   \n",
       "2                NaN            NaN               NaN                  0.0   \n",
       "3                NaN            NaN               NaN                  0.0   \n",
       "4                NaN            NaN               NaN                  0.0   \n",
       "\n",
       "  tax_liens tot_hi_cred_lim total_bal_ex_mort total_bc_limit  \\\n",
       "0       0.0             NaN               NaN            NaN   \n",
       "1       0.0             NaN               NaN            NaN   \n",
       "2       0.0             NaN               NaN            NaN   \n",
       "3       0.0             NaN               NaN            NaN   \n",
       "4       0.0             NaN               NaN            NaN   \n",
       "\n",
       "  total_il_high_credit_limit  \n",
       "0                        NaN  \n",
       "1                        NaN  \n",
       "2                        NaN  \n",
       "3                        NaN  \n",
       "4                        NaN  \n",
       "\n",
       "[5 rows x 111 columns]"
      ]
     },
     "execution_count": 1,
     "metadata": {},
     "output_type": "execute_result"
    }
   ],
   "source": [
    "import pandas as pd\n",
    "import seaborn as sns\n",
    "import matplotlib.pyplot as plt\n",
    "\n",
    "loan = pd.read_csv(\"loan.csv\", low_memory = False)\n",
    "loan.head()"
   ]
  },
  {
   "cell_type": "code",
   "execution_count": 2,
   "metadata": {},
   "outputs": [
    {
     "name": "stdout",
     "output_type": "stream",
     "text": [
      "<class 'pandas.core.frame.DataFrame'>\n",
      "RangeIndex: 39717 entries, 0 to 39716\n",
      "Columns: 111 entries, id to total_il_high_credit_limit\n",
      "dtypes: float64(74), int64(13), object(24)\n",
      "memory usage: 33.6+ MB\n"
     ]
    }
   ],
   "source": [
    "loan.info()"
   ]
  },
  {
   "cell_type": "code",
   "execution_count": 3,
   "metadata": {},
   "outputs": [],
   "source": [
    "################################################  \n",
    "##########      Data Cleaning      ############\n",
    "\n",
    "# Remove all the columns where more than 30% data is missing\n",
    "\n",
    "loan.dropna(axis=1, thresh=0.7*len(loan), inplace=True)\n"
   ]
  },
  {
   "cell_type": "code",
   "execution_count": 4,
   "metadata": {},
   "outputs": [
    {
     "data": {
      "text/plain": [
       "(39717, 53)"
      ]
     },
     "execution_count": 4,
     "metadata": {},
     "output_type": "execute_result"
    }
   ],
   "source": [
    "loan.shape"
   ]
  },
  {
   "cell_type": "code",
   "execution_count": 5,
   "metadata": {},
   "outputs": [
    {
     "data": {
      "text/plain": [
       "Index(['pymnt_plan', 'initial_list_status', 'collections_12_mths_ex_med',\n",
       "       'policy_code', 'application_type', 'acc_now_delinq',\n",
       "       'chargeoff_within_12_mths', 'delinq_amnt', 'tax_liens'],\n",
       "      dtype='object')"
      ]
     },
     "execution_count": 5,
     "metadata": {},
     "output_type": "execute_result"
    }
   ],
   "source": [
    "loan.loc[:,loan.apply(pd.Series.nunique) == 1].columns"
   ]
  },
  {
   "cell_type": "code",
   "execution_count": 6,
   "metadata": {},
   "outputs": [
    {
     "name": "stdout",
     "output_type": "stream",
     "text": [
      "n    39717\n",
      "Name: pymnt_plan, dtype: int64\n",
      "\n",
      "INDIVIDUAL    39717\n",
      "Name: application_type, dtype: int64\n",
      "\n",
      "1    39717\n",
      "Name: policy_code, dtype: int64\n",
      "\n",
      "0    39717\n",
      "Name: delinq_amnt, dtype: int64\n",
      "\n",
      "0.0    39678\n",
      "Name: tax_liens, dtype: int64\n",
      "\n",
      "f    39717\n",
      "Name: initial_list_status, dtype: int64\n",
      "\n",
      "0.0    39661\n",
      "Name: collections_12_mths_ex_med, dtype: int64\n",
      "\n",
      "0    39717\n",
      "Name: acc_now_delinq, dtype: int64\n",
      "\n",
      "0.0    39661\n",
      "Name: chargeoff_within_12_mths, dtype: int64\n",
      "\n",
      "0.00       35499\n",
      "10.40          4\n",
      "11.29          4\n",
      "19.20          3\n",
      "13.59          3\n",
      "11.20          3\n",
      "10.66          3\n",
      "13.93          3\n",
      "13.44          3\n",
      "44.92          3\n",
      "16.27          3\n",
      "9.80           3\n",
      "16.50          3\n",
      "14.61          3\n",
      "10.13          3\n",
      "10.07          3\n",
      "12.09          3\n",
      "13.00          3\n",
      "164.81         3\n",
      "101.39         2\n",
      "10.86          2\n",
      "139.62         2\n",
      "84.55          2\n",
      "87.36          2\n",
      "12.41          2\n",
      "13.16          2\n",
      "182.90         2\n",
      "44.09          2\n",
      "13.47          2\n",
      "11.58          2\n",
      "           ...  \n",
      "1898.32        1\n",
      "271.02         1\n",
      "2563.40        1\n",
      "68.63          1\n",
      "171.78         1\n",
      "556.88         1\n",
      "1517.32        1\n",
      "17.24          1\n",
      "249.61         1\n",
      "294.11         1\n",
      "225.59         1\n",
      "11.25          1\n",
      "109.25         1\n",
      "71.41          1\n",
      "321.76         1\n",
      "1573.14        1\n",
      "1040.81        1\n",
      "4007.50        1\n",
      "1007.13        1\n",
      "318.99         1\n",
      "613.69         1\n",
      "166.71         1\n",
      "20.41          1\n",
      "151.51         1\n",
      "1753.49        1\n",
      "240.15         1\n",
      "385.70         1\n",
      "995.74         1\n",
      "176.49         1\n",
      "269.31         1\n",
      "Name: recoveries, Length: 4040, dtype: int64\n",
      "\n",
      "Debt Consolidation                          2184\n",
      "Debt Consolidation Loan                     1729\n",
      "Personal Loan                                659\n",
      "Consolidation                                517\n",
      "debt consolidation                           505\n",
      "Home Improvement                             356\n",
      "Credit Card Consolidation                    356\n",
      "Debt consolidation                           334\n",
      "Small Business Loan                          328\n",
      "Credit Card Loan                             317\n",
      "Personal                                     308\n",
      "Consolidation Loan                           255\n",
      "Home Improvement Loan                        247\n",
      "personal loan                                234\n",
      "personal                                     220\n",
      "Loan                                         213\n",
      "Wedding Loan                                 208\n",
      "consolidation                                205\n",
      "Car Loan                                     204\n",
      "Other Loan                                   191\n",
      "Wedding                                      154\n",
      "Credit Card Payoff                           154\n",
      "Major Purchase Loan                          145\n",
      "Credit Card Refinance                        144\n",
      "Consolidate                                  126\n",
      "Medical                                      122\n",
      "Credit Card                                  118\n",
      "home improvement                             111\n",
      "My Loan                                       93\n",
      "Credit Cards                                  93\n",
      "                                            ... \n",
      "Restructuring my own debt                      1\n",
      "Solid Borrower Looking for Help                1\n",
      "Get Ahead                                      1\n",
      "Business debt extension                        1\n",
      "DebtFreeN3                                     1\n",
      "sister's wedding expence                       1\n",
      "Ciro                                           1\n",
      "My CC consolidation loan                       1\n",
      "Catherine                                      1\n",
      "Invest                                         1\n",
      "family emergency travel                        1\n",
      "reborn                                         1\n",
      "Debt consolidation & tuition loan              1\n",
      "New Business Purchase                          1\n",
      "refinance debt                                 1\n",
      "Quick Repay!                                   1\n",
      "Fun and Debt loan                              1\n",
      "Barn                                           1\n",
      "freedom at a cost                              1\n",
      "Miscelaneous                                   1\n",
      "Personal Funds                                 1\n",
      "Monopoly                                       1\n",
      "PAY OFF THE GIANTS                             1\n",
      "joesloan                                       1\n",
      "Pay Personal Loans                             1\n",
      "Teachers Camp                                  1\n",
      "GOD IS GOOD                                    1\n",
      "Car refinancing $7500                          1\n",
      "Debt Consolidation Loan Stew                   1\n",
      "Consolidating my Debt and Paying it Off!       1\n",
      "Name: title, Length: 19615, dtype: int64\n",
      "\n"
     ]
    }
   ],
   "source": [
    "######### Checking if there are any other columns that can be dropped\n",
    "\n",
    "print(loan.pymnt_plan.value_counts(), end='\\n\\n')\n",
    "print(loan.application_type.value_counts(), end='\\n\\n')\n",
    "print(loan.policy_code.value_counts(), end='\\n\\n')\n",
    "print(loan.delinq_amnt.value_counts(), end='\\n\\n')\n",
    "print(loan.tax_liens.value_counts(), end='\\n\\n')\n",
    "print(loan.initial_list_status.value_counts(), end='\\n\\n')\n",
    "print(loan.collections_12_mths_ex_med.value_counts(), end='\\n\\n')\n",
    "print(loan.acc_now_delinq.value_counts(), end='\\n\\n')\n",
    "print(loan.chargeoff_within_12_mths.value_counts(), end='\\n\\n')\n",
    "print(loan.recoveries.value_counts(), end='\\n\\n')\n",
    "print(loan.title.value_counts(), end='\\n\\n')\n",
    "\n"
   ]
  },
  {
   "cell_type": "markdown",
   "metadata": {},
   "source": [
    "\n",
    "\n",
    "# Found that the columns mentioned in the above cell can be dropped as they have mostly single value in entire column and some of them needs lot of cleanup to become useful for analysing and some of them are captured in other columns.\n",
    "\n"
   ]
  },
  {
   "cell_type": "code",
   "execution_count": 7,
   "metadata": {},
   "outputs": [],
   "source": [
    "# Removing the following columns as they are not useful for our analysis\n",
    "# 1) url column, it is accessible only from a investor account on lending club site\n",
    "# 2) zipcode column, only first 3 digits are visible\n",
    "# 3) id column, randomly generated field by LendingClub for unique identification purposes only.\n",
    "# 4) member_id column, also randomly generated field by LendingClub for identification purposes only\n",
    "# 5) emp_title column, needs extra info about the column for analysing and needs a lot of processing to become useful\n",
    "# 6) 'pymnt_plan' column as it has sinle value 'n'\n",
    "# 7) 'title' column is already captured in purpose column and title column needs lot of cleanup to become useful for analysis\n",
    "# 8) 'application_type' column has single constant value 'INDIVIDUAL'\n",
    "# 9) 'policy_code' column has single constant value '1'\n",
    "# 10) 'delinq_amnt' column has single constant value '0'\n",
    "# 11) 'tax_liens' column has single constant value '0.0'\n",
    "# 12) 'recoveries' column has 90% of the values as 0\n",
    "# 13) 'initial_list_status' column has single constant value f\n",
    "# 14) 'collections_12_mths_ex_med' column has single constant value 0.0\n",
    "# 15) 'acc_now_delinq' column has single constant value 0\n",
    "# 16) 'chargeoff_within_12_mths' column has  a single constant value 0.0\n",
    "# 17) 'sub_grade' column is captured in grade column\n",
    "# 18) 'collection_recovery_fee' has most of the values as 0\n",
    "# 19) 'total_rec_late_fee' has most of the values as 0\n",
    "\n",
    "loan.drop(columns=['url','zip_code','id','member_id','emp_title','pymnt_plan','title','application_type',\n",
    "                  'policy_code','delinq_amnt','tax_liens','recoveries','initial_list_status',\n",
    "                   'collections_12_mths_ex_med','acc_now_delinq','chargeoff_within_12_mths','sub_grade',\n",
    "                  'collection_recovery_fee', 'total_rec_late_fee'], inplace = True)\n"
   ]
  },
  {
   "cell_type": "code",
   "execution_count": 8,
   "metadata": {},
   "outputs": [
    {
     "data": {
      "text/plain": [
       "(39717, 34)"
      ]
     },
     "execution_count": 8,
     "metadata": {},
     "output_type": "execute_result"
    }
   ],
   "source": [
    "############# After removing all the columns with more than 30% missing values, count of remaining columns = 34\n",
    "\n",
    "loan.shape"
   ]
  },
  {
   "cell_type": "code",
   "execution_count": 9,
   "metadata": {},
   "outputs": [
    {
     "name": "stdout",
     "output_type": "stream",
     "text": [
      "loan_amnt               0.00\n",
      "funded_amnt             0.00\n",
      "funded_amnt_inv         0.00\n",
      "term                    0.00\n",
      "int_rate                0.00\n",
      "installment             0.00\n",
      "grade                   0.00\n",
      "emp_length              2.71\n",
      "home_ownership          0.00\n",
      "annual_inc              0.00\n",
      "verification_status     0.00\n",
      "issue_d                 0.00\n",
      "loan_status             0.00\n",
      "purpose                 0.00\n",
      "addr_state              0.00\n",
      "dti                     0.00\n",
      "delinq_2yrs             0.00\n",
      "earliest_cr_line        0.00\n",
      "inq_last_6mths          0.00\n",
      "open_acc                0.00\n",
      "pub_rec                 0.00\n",
      "revol_bal               0.00\n",
      "revol_util              0.13\n",
      "total_acc               0.00\n",
      "out_prncp               0.00\n",
      "out_prncp_inv           0.00\n",
      "total_pymnt             0.00\n",
      "total_pymnt_inv         0.00\n",
      "total_rec_prncp         0.00\n",
      "total_rec_int           0.00\n",
      "last_pymnt_d            0.18\n",
      "last_pymnt_amnt         0.00\n",
      "last_credit_pull_d      0.01\n",
      "pub_rec_bankruptcies    1.75\n",
      "dtype: float64\n"
     ]
    }
   ],
   "source": [
    "print(round(loan.isnull().sum()/len(loan)*100, 2))"
   ]
  },
  {
   "cell_type": "code",
   "execution_count": 10,
   "metadata": {},
   "outputs": [
    {
     "name": "stdout",
     "output_type": "stream",
     "text": [
      "5\n"
     ]
    }
   ],
   "source": [
    "############### still there are columns with few missing values\n",
    "\n",
    "print(sum(round(loan.isnull().sum()/len(loan)*100, 2) > 0))\n",
    "\n",
    "############# Still there are 4 columns with null values, let's look into those columns one by one"
   ]
  },
  {
   "cell_type": "code",
   "execution_count": 11,
   "metadata": {},
   "outputs": [
    {
     "data": {
      "text/plain": [
       "emp_length              2.71\n",
       "revol_util              0.13\n",
       "last_pymnt_d            0.18\n",
       "last_credit_pull_d      0.01\n",
       "pub_rec_bankruptcies    1.75\n",
       "dtype: float64"
      ]
     },
     "execution_count": 11,
     "metadata": {},
     "output_type": "execute_result"
    }
   ],
   "source": [
    "### display only those columns that have % of missing values > 0\n",
    "round(loan.isnull().sum()/len(loan)*100, 2).loc[lambda x : x > 0]"
   ]
  },
  {
   "cell_type": "code",
   "execution_count": 12,
   "metadata": {},
   "outputs": [],
   "source": [
    "#################### Removing null values in the columns where null values are present ##############################\n",
    "\n",
    "loan.dropna(subset=['emp_length','revol_util','last_pymnt_d','last_credit_pull_d', 'pub_rec_bankruptcies'], inplace=True)\n"
   ]
  },
  {
   "cell_type": "code",
   "execution_count": 13,
   "metadata": {},
   "outputs": [
    {
     "name": "stdout",
     "output_type": "stream",
     "text": [
      "0\n"
     ]
    }
   ],
   "source": [
    "###### checking if there are any columns with null values\n",
    "\n",
    "print(sum(round(loan.isnull().sum()/len(loan)*100, 2) > 0))"
   ]
  },
  {
   "cell_type": "code",
   "execution_count": 14,
   "metadata": {},
   "outputs": [],
   "source": [
    "##### As we can see from the ouput of loan.info() that after removing rows with null values, indexes are skewed. \n",
    "# so resetting indexes.\n",
    "# For reset_index, we are passing drop as True, so that new index is not added.\n",
    "\n",
    "loan.reset_index(drop=True, inplace=True)"
   ]
  },
  {
   "cell_type": "code",
   "execution_count": 15,
   "metadata": {},
   "outputs": [
    {
     "name": "stdout",
     "output_type": "stream",
     "text": [
      "<class 'pandas.core.frame.DataFrame'>\n",
      "RangeIndex: 37835 entries, 0 to 37834\n",
      "Data columns (total 34 columns):\n",
      "loan_amnt               37835 non-null int64\n",
      "funded_amnt             37835 non-null int64\n",
      "funded_amnt_inv         37835 non-null float64\n",
      "term                    37835 non-null object\n",
      "int_rate                37835 non-null object\n",
      "installment             37835 non-null float64\n",
      "grade                   37835 non-null object\n",
      "emp_length              37835 non-null object\n",
      "home_ownership          37835 non-null object\n",
      "annual_inc              37835 non-null float64\n",
      "verification_status     37835 non-null object\n",
      "issue_d                 37835 non-null object\n",
      "loan_status             37835 non-null object\n",
      "purpose                 37835 non-null object\n",
      "addr_state              37835 non-null object\n",
      "dti                     37835 non-null float64\n",
      "delinq_2yrs             37835 non-null int64\n",
      "earliest_cr_line        37835 non-null object\n",
      "inq_last_6mths          37835 non-null int64\n",
      "open_acc                37835 non-null int64\n",
      "pub_rec                 37835 non-null int64\n",
      "revol_bal               37835 non-null int64\n",
      "revol_util              37835 non-null object\n",
      "total_acc               37835 non-null int64\n",
      "out_prncp               37835 non-null float64\n",
      "out_prncp_inv           37835 non-null float64\n",
      "total_pymnt             37835 non-null float64\n",
      "total_pymnt_inv         37835 non-null float64\n",
      "total_rec_prncp         37835 non-null float64\n",
      "total_rec_int           37835 non-null float64\n",
      "last_pymnt_d            37835 non-null object\n",
      "last_pymnt_amnt         37835 non-null float64\n",
      "last_credit_pull_d      37835 non-null object\n",
      "pub_rec_bankruptcies    37835 non-null float64\n",
      "dtypes: float64(12), int64(8), object(14)\n",
      "memory usage: 9.8+ MB\n"
     ]
    }
   ],
   "source": [
    "##############################################################################\n",
    "#####   Identifying categorical data and numerical data in the data set  #####\n",
    "\n",
    "# We can see from the output of loan.info that, \n",
    "# out of 34 columns, 20 columns have numerical data and 14 columns have categorical data\n",
    "# All the columns whose data type is int or float are numerical data and \n",
    "# all the columns whose data type is object are categorical data\n",
    "\n",
    "loan.info()"
   ]
  },
  {
   "cell_type": "code",
   "execution_count": 16,
   "metadata": {},
   "outputs": [],
   "source": [
    "############   Handling data quality issues in purpose column   #############\n",
    "######## replacing house with home_improvement\n",
    "loan.purpose = loan.purpose.apply(lambda x: 'home_improvement' \n",
    "                              if x in (['house']) \n",
    "                              else x)"
   ]
  },
  {
   "cell_type": "code",
   "execution_count": 17,
   "metadata": {},
   "outputs": [
    {
     "data": {
      "text/plain": [
       "debt_consolidation    17913\n",
       "credit_card            4898\n",
       "other                  3708\n",
       "home_improvement       3186\n",
       "major_purchase         2085\n",
       "small_business         1721\n",
       "car                    1478\n",
       "wedding                 908\n",
       "medical                 657\n",
       "moving                  548\n",
       "vacation                345\n",
       "educational             294\n",
       "renewable_energy         94\n",
       "Name: purpose, dtype: int64"
      ]
     },
     "execution_count": 17,
     "metadata": {},
     "output_type": "execute_result"
    }
   ],
   "source": [
    "loan.purpose.value_counts()"
   ]
  },
  {
   "cell_type": "code",
   "execution_count": 18,
   "metadata": {},
   "outputs": [
    {
     "data": {
      "image/png": "[encoded data removed]",
      "text/plain": [
       "<Figure size 1656x720 with 1 Axes>"
      ]
     },
     "metadata": {
      "needs_background": "light"
     },
     "output_type": "display_data"
    }
   ],
   "source": [
    "################    Performing univariate analysis of purpose column\n",
    "fig, ax = plt.subplots()\n",
    "fig.set_size_inches(23, 10)\n",
    "sns.countplot(x='purpose', data=loan)\n",
    "plt.title(\"Frequency plot of Loan Purpose\")\n",
    "plt.xlabel('Loan Purpose')\n",
    "plt.yscale('log')\n",
    "plt.show()"
   ]
  },
  {
   "cell_type": "markdown",
   "metadata": {},
   "source": [
    "\n",
    "# Findings from performing Univariate analysis on purpose column.\n",
    "\n",
    "# Purpose column is an unordered categorical variable\n",
    "\n",
    "# From the above plot we can see that highest number of borrowers have taken debt consolidation loan, followed by credit_card loan, followed by other loan, home_improvement loan, etc. \n",
    "\n"
   ]
  },
  {
   "cell_type": "code",
   "execution_count": 19,
   "metadata": {},
   "outputs": [],
   "source": [
    "##########  performing univariate analysis on int_rate\n",
    "##########  handling data quality issues in int_rate column\n",
    "\n",
    "loan['int_rate'] = loan.int_rate.str.strip('%')\n",
    "loan['int_rate'] = loan.int_rate.astype(float)"
   ]
  },
  {
   "cell_type": "code",
   "execution_count": 20,
   "metadata": {},
   "outputs": [
    {
     "data": {
      "image/png": "[encoded data removed]",
      "text/plain": [
       "<Figure size 1008x504 with 1 Axes>"
      ]
     },
     "metadata": {
      "needs_background": "light"
     },
     "output_type": "display_data"
    }
   ],
   "source": [
    "import seaborn as sns\n",
    "import matplotlib.pyplot as plt\n",
    "\n",
    "fig, ax = plt.subplots()\n",
    "fig.set_size_inches(14, 7)\n",
    "sns.boxplot(x='int_rate', data=loan)\n",
    "plt.title('Distribution of interest rates')\n",
    "plt.xlabel('Interest rates')\n",
    "plt.show()"
   ]
  },
  {
   "cell_type": "markdown",
   "metadata": {},
   "source": [
    "\n",
    "# Findings from performing Univariate analysis on int_rate column.\n",
    "\n",
    "\n",
    "# From the above plot we can see that the interest rates of most of the loans are between 9% to 14.5% and median is at around 11.5%\n",
    "\n",
    "\n",
    "# Outlier detection:\n",
    "# From the above plot we can observe that there are outliers after the right whisker. Interest rates above 22.5% are outliers.\n",
    "\n"
   ]
  },
  {
   "cell_type": "code",
   "execution_count": 21,
   "metadata": {},
   "outputs": [
    {
     "data": {
      "text/plain": [
       "array(['Fully Paid', 'Charged Off', 'Current'], dtype=object)"
      ]
     },
     "execution_count": 21,
     "metadata": {},
     "output_type": "execute_result"
    }
   ],
   "source": [
    "##########  performing univariate analysis on Loan Status column\n",
    "########### Checking data quality issues in Loan status column\n",
    "\n",
    "loan.loan_status.unique()\n",
    "\n",
    "###### no data quality issues found in loan_status column. No extra spaces and no lowercase, uppercase issues"
   ]
  },
  {
   "cell_type": "code",
   "execution_count": 22,
   "metadata": {},
   "outputs": [
    {
     "data": {
      "text/plain": [
       "Text(0.5, 1.0, 'Percentage of loans fully paid, charged off and current')"
      ]
     },
     "execution_count": 22,
     "metadata": {},
     "output_type": "execute_result"
    },
    {
     "data": {
      "image/png": "[encoded data removed]",
      "text/plain": [
       "<Figure size 720x648 with 1 Axes>"
      ]
     },
     "metadata": {},
     "output_type": "display_data"
    }
   ],
   "source": [
    "from itertools import chain\n",
    "from collections import Counter\n",
    "\n",
    "paid_percent = round(sum(loan.loan_status == 'Fully Paid')/len(loan) * 100, 2)\n",
    "charged_off_percent = round(sum(loan.loan_status == 'Charged Off')/len(loan) * 100, 2)\n",
    "current_percent = round(sum(loan.loan_status == 'Current')/len(loan) * 100, 2)\n",
    "\n",
    "cts = Counter(loan.loan_status.unique())\n",
    "fig, ax = plt.subplots()\n",
    "fig.set_size_inches(10, 9)\n",
    "plt.pie([paid_percent, charged_off_percent, current_percent], labels=cts.keys(), autopct='%1.0f%%')\n",
    "plt.title('Percentage of loans fully paid, charged off and current')"
   ]
  },
  {
   "cell_type": "markdown",
   "metadata": {},
   "source": [
    "\n",
    "# Findings from performing Univariate analysis on loan_status column. \n",
    "\n",
    "# As we can see from  the plot above that majority (83%) of the borrowers have paid the full amount back. 14% of the borrowers are charged off and 3% of the borrowers are currently repaying loans. \n",
    "\n",
    "# Now for analysing whether the borrower repays the loan or defaults it, we should study the patterns of borrowers who were charged off. \n",
    "\n"
   ]
  },
  {
   "cell_type": "code",
   "execution_count": 23,
   "metadata": {},
   "outputs": [],
   "source": [
    "###### As rows with loan_status = current, are not useful for analysis, we can remove those rows\n",
    "loan.loan_status = loan.loc[loan.loan_status != 'Current', 'loan_status']"
   ]
  },
  {
   "cell_type": "code",
   "execution_count": 24,
   "metadata": {},
   "outputs": [
    {
     "data": {
      "text/plain": [
       "B    11463\n",
       "A     9547\n",
       "C     7709\n",
       "D     5055\n",
       "E     2742\n",
       "F     1010\n",
       "G      309\n",
       "Name: grade, dtype: int64"
      ]
     },
     "execution_count": 24,
     "metadata": {},
     "output_type": "execute_result"
    }
   ],
   "source": [
    "loan.grade.value_counts()"
   ]
  },
  {
   "cell_type": "code",
   "execution_count": 25,
   "metadata": {},
   "outputs": [
    {
     "data": {
      "image/png": "[encoded data removed]",
      "text/plain": [
       "<Figure size 1440x720 with 1 Axes>"
      ]
     },
     "metadata": {
      "needs_background": "light"
     },
     "output_type": "display_data"
    }
   ],
   "source": [
    "########## Univariate analysis on grade column\n",
    "\n",
    "fig, ax = plt.subplots()\n",
    "fig.set_size_inches(20, 10)\n",
    "sns.countplot(x='grade', data=loan)\n",
    "plt.title(\"Frequency plot of loan grades\")\n",
    "plt.xlabel('Loan Grades')\n",
    "plt.show()"
   ]
  },
  {
   "cell_type": "markdown",
   "metadata": {},
   "source": [
    "\n",
    "# Findings from performing Univariate analysis on Grade column.\n",
    "\n",
    "# Grade is a ordered categorical variable.  A < B < C < D < E < F < G\n",
    "\n",
    "# Grade A means lower risk for lending club and Grade G means higher risk for lending club.\n",
    "\n",
    "# From the above plot, we can see that majority of the loans were given Grade-B, followed by Grade-A, Grade-C, etc. \n"
   ]
  },
  {
   "cell_type": "code",
   "execution_count": 26,
   "metadata": {},
   "outputs": [
    {
     "data": {
      "text/plain": [
       "4000.0"
      ]
     },
     "execution_count": 26,
     "metadata": {},
     "output_type": "execute_result"
    }
   ],
   "source": [
    "loan.annual_inc.min()"
   ]
  },
  {
   "cell_type": "code",
   "execution_count": 27,
   "metadata": {},
   "outputs": [
    {
     "data": {
      "text/plain": [
       "6000000.0"
      ]
     },
     "execution_count": 27,
     "metadata": {},
     "output_type": "execute_result"
    }
   ],
   "source": [
    "loan.annual_inc.max()"
   ]
  },
  {
   "cell_type": "code",
   "execution_count": 28,
   "metadata": {},
   "outputs": [
    {
     "data": {
      "text/plain": [
       "count    3.783500e+04\n",
       "mean     6.967097e+04\n",
       "std      6.364337e+04\n",
       "min      4.000000e+03\n",
       "25%      4.188600e+04\n",
       "50%      6.000000e+04\n",
       "75%      8.350000e+04\n",
       "max      6.000000e+06\n",
       "Name: annual_inc, dtype: float64"
      ]
     },
     "execution_count": 28,
     "metadata": {},
     "output_type": "execute_result"
    }
   ],
   "source": [
    "loan.annual_inc.describe()"
   ]
  },
  {
   "cell_type": "code",
   "execution_count": 29,
   "metadata": {},
   "outputs": [
    {
     "data": {
      "image/png": "[encoded data removed]",
      "text/plain": [
       "<Figure size 1440x720 with 1 Axes>"
      ]
     },
     "metadata": {
      "needs_background": "light"
     },
     "output_type": "display_data"
    }
   ],
   "source": [
    "################    Performing univariate analysis of annual income column\n",
    "fig, ax = plt.subplots()\n",
    "fig.set_size_inches(20, 10)\n",
    "sns.distplot(loan['annual_inc'])\n",
    "plt.yscale('log')\n",
    "plt.show()"
   ]
  },
  {
   "cell_type": "markdown",
   "metadata": {},
   "source": [
    "# Findings from performing Univariate analysis on Annual Income column.\n",
    "\n",
    "# From the above plot we can see that majority of loan applicant's annual income is less than 10 lakhs.\n",
    "\n",
    "# Outlier detection:\n",
    "# From the above plot we can observe that there are some outliers. But because of very few outliers, mean has not been skewed.\n",
    "\n"
   ]
  },
  {
   "cell_type": "code",
   "execution_count": 30,
   "metadata": {},
   "outputs": [
    {
     "data": {
      "image/png": "[encoded data removed]",
      "text/plain": [
       "<Figure size 720x720 with 2 Axes>"
      ]
     },
     "metadata": {
      "needs_background": "light"
     },
     "output_type": "display_data"
    }
   ],
   "source": [
    "############### plotting a correlation matrix for entire data to identify the patterns\n",
    "\n",
    "loan_correlation_matrix = loan.corr()\n",
    "fig, ax = plt.subplots()\n",
    "fig.set_size_inches(10, 10)\n",
    "sns.heatmap(loan_correlation_matrix, ax = ax, cmap =\"YlGnBu\", linewidths = 0.1) \n",
    "plt.show()"
   ]
  },
  {
   "cell_type": "markdown",
   "metadata": {},
   "source": [
    "# loan_amnt', 'funded_amnt_inv', 'funded_amnt' are highly correlated. \n",
    "\n",
    "# issued some loan that differs from the requested amount"
   ]
  },
  {
   "cell_type": "code",
   "execution_count": 31,
   "metadata": {},
   "outputs": [
    {
     "data": {
      "image/png": "[encoded data removed]",
      "text/plain": [
       "<Figure size 1008x504 with 1 Axes>"
      ]
     },
     "metadata": {
      "needs_background": "light"
     },
     "output_type": "display_data"
    }
   ],
   "source": [
    "################# Bivariate analysis on loan status and interest rate\n",
    "\n",
    "fig, ax = plt.subplots()\n",
    "fig.set_size_inches(14, 7)\n",
    "sns.boxplot(y='int_rate', x='loan_status', data=loan)\n",
    "plt.title('Box plot for loan status versus interest rate')\n",
    "plt.ylabel('Interest rates')\n",
    "plt.show()"
   ]
  },
  {
   "cell_type": "markdown",
   "metadata": {},
   "source": [
    "# Findings from performing bivariate analysis on interest rates versus loan status.\n",
    "\n",
    "# We can see from the above plot that higher the interest rate, higher the chances of loan getting charged off\n"
   ]
  },
  {
   "cell_type": "code",
   "execution_count": 32,
   "metadata": {},
   "outputs": [
    {
     "name": "stdout",
     "output_type": "stream",
     "text": [
      "loan_status  charged_off_percentage  fully_paid_percentage\n",
      "grade                                                     \n",
      "A                              5.74                  94.26\n",
      "B                             11.79                  88.21\n",
      "C                             16.49                  83.51\n",
      "D                             21.41                  78.59\n",
      "E                             26.45                  73.55\n",
      "F                             32.37                  67.63\n",
      "G                             32.88                  67.12\n"
     ]
    },
    {
     "data": {
      "text/plain": [
       "<matplotlib.axes._subplots.AxesSubplot at 0x1fbad2db2e8>"
      ]
     },
     "execution_count": 32,
     "metadata": {},
     "output_type": "execute_result"
    },
    {
     "data": {
      "image/png": "[encoded data removed]",
      "text/plain": [
       "<Figure size 1008x504 with 1 Axes>"
      ]
     },
     "metadata": {
      "needs_background": "light"
     },
     "output_type": "display_data"
    }
   ],
   "source": [
    "################# Bivariate analysis on two categorical variables loan status and grade\n",
    "\n",
    "loan_crosstab = pd.crosstab(loan['grade'], loan['loan_status'])\n",
    "loan_crosstab['sum_of_charged_off_and_fully_paid'] = loan_crosstab['Charged Off'] + loan_crosstab['Fully Paid']\n",
    "\n",
    "### calculating percentages grade-wise\n",
    "loan_crosstab['charged_off_percentage'] = round((loan_crosstab['Charged Off']/loan_crosstab.sum_of_charged_off_and_fully_paid)*100, 2)\n",
    "loan_crosstab['fully_paid_percentage'] = round((loan_crosstab['Fully Paid']/loan_crosstab.sum_of_charged_off_and_fully_paid)*100, 2)\n",
    "\n",
    "######## dropping unnecessary columns in contingency table\n",
    "loan_crosstab.drop(columns=['Charged Off', 'Fully Paid', 'sum_of_charged_off_and_fully_paid'], inplace=True)\n",
    "print(loan_crosstab)\n",
    "\n",
    "loan_crosstab.sort_values(by='charged_off_percentage').plot.bar(stacked=False, figsize=(14,7),  title='Grade versus Loan Status')\n"
   ]
  },
  {
   "cell_type": "markdown",
   "metadata": {},
   "source": [
    "# Findings from bivariate analysis on loan status versus grade\n",
    "# From the above plot we can see that as we move from higer grade to lower grade i.e from Grade-A to Grade-G, the percentage of charged_off is increasing. There is a correlation between loan defaulting and grade."
   ]
  },
  {
   "cell_type": "code",
   "execution_count": 33,
   "metadata": {},
   "outputs": [
    {
     "name": "stdout",
     "output_type": "stream",
     "text": [
      "loan_status  charged_off_percentage  fully_paid_percentage\n",
      "term                                                      \n",
      " 36 months                    10.53                  89.47\n",
      " 60 months                    24.98                  75.02\n"
     ]
    },
    {
     "data": {
      "text/plain": [
       "<matplotlib.axes._subplots.AxesSubplot at 0x1fbad2d52b0>"
      ]
     },
     "execution_count": 33,
     "metadata": {},
     "output_type": "execute_result"
    },
    {
     "data": {
      "image/png": "[encoded data removed]",
      "text/plain": [
       "<Figure size 1008x504 with 1 Axes>"
      ]
     },
     "metadata": {
      "needs_background": "light"
     },
     "output_type": "display_data"
    }
   ],
   "source": [
    "################# Bivariate analysis on loan status and Term\n",
    "\n",
    "\n",
    "loan_crosstab = pd.crosstab(loan['term'], loan['loan_status'])\n",
    "loan_crosstab['sum_of_charged_off_and_fully_paid'] = loan_crosstab['Charged Off'] + loan_crosstab['Fully Paid']\n",
    "\n",
    "### calculating percentages\n",
    "loan_crosstab['charged_off_percentage'] = round((loan_crosstab['Charged Off']/loan_crosstab.sum_of_charged_off_and_fully_paid)*100, 2)\n",
    "loan_crosstab['fully_paid_percentage'] = round((loan_crosstab['Fully Paid']/loan_crosstab.sum_of_charged_off_and_fully_paid)*100, 2)\n",
    "\n",
    "######## dropping unnecessary columns in contingency table\n",
    "loan_crosstab.drop(columns=['Charged Off', 'Fully Paid', 'sum_of_charged_off_and_fully_paid'], inplace=True)\n",
    "print(loan_crosstab)\n",
    "\n",
    "loan_crosstab.sort_values(by='charged_off_percentage').plot.bar(stacked=False, figsize=(14,7),  title='Term versus Loan Status')\n"
   ]
  },
  {
   "cell_type": "markdown",
   "metadata": {},
   "source": [
    "# From the above plot we can see that 60 months term loans are more likely to get default."
   ]
  },
  {
   "cell_type": "code",
   "execution_count": 34,
   "metadata": {},
   "outputs": [
    {
     "name": "stdout",
     "output_type": "stream",
     "text": [
      "loan_status           charged_off_percentage  fully_paid_percentage\n",
      "pub_rec_bankruptcies                                               \n",
      "0.0                                    13.84                  86.16\n",
      "1.0                                    21.60                  78.40\n",
      "2.0                                    40.00                  60.00\n"
     ]
    },
    {
     "data": {
      "text/plain": [
       "<matplotlib.axes._subplots.AxesSubplot at 0x1fbae431278>"
      ]
     },
     "execution_count": 34,
     "metadata": {},
     "output_type": "execute_result"
    },
    {
     "data": {
      "image/png": "[encoded data removed]",
      "text/plain": [
       "<Figure size 1008x504 with 1 Axes>"
      ]
     },
     "metadata": {
      "needs_background": "light"
     },
     "output_type": "display_data"
    }
   ],
   "source": [
    "################# Bivariate analysis on loan status and pub_rec_bankruptcies\n",
    "\n",
    "\n",
    "loan_crosstab = pd.crosstab(loan['pub_rec_bankruptcies'], loan['loan_status'])\n",
    "loan_crosstab['sum_of_charged_off_and_fully_paid'] = loan_crosstab['Charged Off'] + loan_crosstab['Fully Paid']\n",
    "\n",
    "### calculating percentages \n",
    "loan_crosstab['charged_off_percentage'] = round((loan_crosstab['Charged Off']/loan_crosstab.sum_of_charged_off_and_fully_paid)*100, 2)\n",
    "loan_crosstab['fully_paid_percentage'] = round((loan_crosstab['Fully Paid']/loan_crosstab.sum_of_charged_off_and_fully_paid)*100, 2)\n",
    "\n",
    "######## dropping unnecessary columns in contingency table\n",
    "loan_crosstab.drop(columns=['Charged Off', 'Fully Paid', 'sum_of_charged_off_and_fully_paid'], inplace=True)\n",
    "print(loan_crosstab)\n",
    "\n",
    "loan_crosstab.sort_values(by='charged_off_percentage').plot.bar(stacked=False, figsize=(14,7),  title='Total Bank Ruptcies versus Loan Status')\n"
   ]
  },
  {
   "cell_type": "markdown",
   "metadata": {},
   "source": [
    "# Customer with public bankruptcy history of 1 or more is more likely to get default "
   ]
  },
  {
   "cell_type": "code",
   "execution_count": 35,
   "metadata": {},
   "outputs": [
    {
     "data": {
      "image/png": "[encoded data removed]",
      "text/plain": [
       "<Figure size 1008x504 with 1 Axes>"
      ]
     },
     "metadata": {
      "needs_background": "light"
     },
     "output_type": "display_data"
    }
   ],
   "source": [
    "################# Bivariate analysis two categorical variables loan status and dti\n",
    "\n",
    "fig, ax = plt.subplots()\n",
    "fig.set_size_inches(14, 7)\n",
    "sns.boxplot(y='dti', x='loan_status', data=loan)\n",
    "plt.title('Box plot for loan status versus dti')\n",
    "plt.ylabel('Debt to Income Ratio')\n",
    "plt.show()"
   ]
  },
  {
   "cell_type": "markdown",
   "metadata": {},
   "source": [
    "# Significant correlation is not there between debt to income ratio and loan defaulting"
   ]
  },
  {
   "cell_type": "code",
   "execution_count": 36,
   "metadata": {},
   "outputs": [],
   "source": [
    "##############   Derived Metrics  ##################\n",
    "## Derived year from issue_d column and used it for bivariate analysis\n",
    "\n",
    "loan.issue_d.value_counts()\n",
    "loan['year'] = loan.issue_d.str.split(\"-\").apply(lambda x: x[1])\n"
   ]
  },
  {
   "cell_type": "code",
   "execution_count": 37,
   "metadata": {},
   "outputs": [
    {
     "data": {
      "text/plain": [
       "0        11\n",
       "1        11\n",
       "2        11\n",
       "3        11\n",
       "4        11\n",
       "5        11\n",
       "6        11\n",
       "7        11\n",
       "8        11\n",
       "9        11\n",
       "10       11\n",
       "11       11\n",
       "12       11\n",
       "13       11\n",
       "14       11\n",
       "15       11\n",
       "16       11\n",
       "17       11\n",
       "18       11\n",
       "19       11\n",
       "20       11\n",
       "21       11\n",
       "22       11\n",
       "23       11\n",
       "24       11\n",
       "25       11\n",
       "26       11\n",
       "27       11\n",
       "28       11\n",
       "29       11\n",
       "         ..\n",
       "37805    08\n",
       "37806    08\n",
       "37807    08\n",
       "37808    08\n",
       "37809    08\n",
       "37810    08\n",
       "37811    08\n",
       "37812    08\n",
       "37813    08\n",
       "37814    08\n",
       "37815    08\n",
       "37816    08\n",
       "37817    08\n",
       "37818    08\n",
       "37819    08\n",
       "37820    08\n",
       "37821    08\n",
       "37822    08\n",
       "37823    08\n",
       "37824    08\n",
       "37825    08\n",
       "37826    08\n",
       "37827    08\n",
       "37828    07\n",
       "37829    07\n",
       "37830    07\n",
       "37831    07\n",
       "37832    07\n",
       "37833    07\n",
       "37834    07\n",
       "Name: year, Length: 37835, dtype: object"
      ]
     },
     "execution_count": 37,
     "metadata": {},
     "output_type": "execute_result"
    }
   ],
   "source": [
    "loan.year"
   ]
  },
  {
   "cell_type": "code",
   "execution_count": 38,
   "metadata": {},
   "outputs": [
    {
     "name": "stdout",
     "output_type": "stream",
     "text": [
      "loan_status  charged_off_percentage  fully_paid_percentage\n",
      "year                                                      \n",
      "07                            28.57                  71.43\n",
      "08                            15.31                  84.69\n",
      "09                            12.35                  87.65\n",
      "10                            12.43                  87.57\n",
      "11                            15.51                  84.49\n"
     ]
    },
    {
     "data": {
      "text/plain": [
       "<matplotlib.axes._subplots.AxesSubplot at 0x1fbadc950b8>"
      ]
     },
     "execution_count": 38,
     "metadata": {},
     "output_type": "execute_result"
    },
    {
     "data": {
      "image/png": "[encoded data removed]",
      "text/plain": [
       "<Figure size 1008x504 with 1 Axes>"
      ]
     },
     "metadata": {
      "needs_background": "light"
     },
     "output_type": "display_data"
    }
   ],
   "source": [
    "################# Bivariate analysis on loan status and year\n",
    "\n",
    "loan_crosstab = pd.crosstab(loan['year'], loan['loan_status'])\n",
    "loan_crosstab['sum_of_charged_off_and_fully_paid'] = loan_crosstab['Charged Off'] + loan_crosstab['Fully Paid']\n",
    "\n",
    "### calculating percentages \n",
    "loan_crosstab['charged_off_percentage'] = round((loan_crosstab['Charged Off']/loan_crosstab.sum_of_charged_off_and_fully_paid)*100, 2)\n",
    "loan_crosstab['fully_paid_percentage'] = round((loan_crosstab['Fully Paid']/loan_crosstab.sum_of_charged_off_and_fully_paid)*100, 2)\n",
    "\n",
    "######## dropping unnecessary columns in contingency table\n",
    "loan_crosstab.drop(columns=['Charged Off', 'Fully Paid', 'sum_of_charged_off_and_fully_paid'], inplace=True)\n",
    "print(loan_crosstab)\n",
    "\n",
    "loan_crosstab.sort_values(by='charged_off_percentage').plot.bar(stacked=False, figsize=(14,7),  title='Year versus Loan Status')\n"
   ]
  },
  {
   "cell_type": "markdown",
   "metadata": {},
   "source": [
    "# In year 2007 there were more defaults probably because of recession as rest of the following year were good in terms of loan repayment. Hence Lending loans during recession could be a factor "
   ]
  },
  {
   "cell_type": "code",
   "execution_count": 39,
   "metadata": {},
   "outputs": [
    {
     "name": "stdout",
     "output_type": "stream",
     "text": [
      "loan_status  charged_off_percentage  fully_paid_percentage\n",
      "delinq_2yrs                                               \n",
      "0                             13.96                  86.04\n",
      "1                             15.24                  84.76\n",
      "2                             18.80                  81.20\n",
      "3                             13.20                  86.80\n",
      "4                             21.82                  78.18\n",
      "5                             14.29                  85.71\n",
      "6                             10.00                  90.00\n",
      "7                             25.00                  75.00\n",
      "8                             50.00                  50.00\n",
      "9                              0.00                 100.00\n",
      "11                             0.00                 100.00\n"
     ]
    },
    {
     "data": {
      "text/plain": [
       "<matplotlib.axes._subplots.AxesSubplot at 0x1fbadc5a048>"
      ]
     },
     "execution_count": 39,
     "metadata": {},
     "output_type": "execute_result"
    },
    {
     "data": {
      "image/png": "[encoded data removed]",
      "text/plain": [
       "<Figure size 1008x504 with 1 Axes>"
      ]
     },
     "metadata": {
      "needs_background": "light"
     },
     "output_type": "display_data"
    }
   ],
   "source": [
    "################# Bivariate analysis on loan status and delinq_2yrs\n",
    "\n",
    "\n",
    "loan_crosstab = pd.crosstab(loan['delinq_2yrs'], loan['loan_status'])\n",
    "loan_crosstab['sum_of_charged_off_and_fully_paid'] = loan_crosstab['Charged Off'] + loan_crosstab['Fully Paid']\n",
    "\n",
    "### calculating percentages\n",
    "loan_crosstab['charged_off_percentage'] = round((loan_crosstab['Charged Off']/loan_crosstab.sum_of_charged_off_and_fully_paid)*100, 2)\n",
    "loan_crosstab['fully_paid_percentage'] = round((loan_crosstab['Fully Paid']/loan_crosstab.sum_of_charged_off_and_fully_paid)*100, 2)\n",
    "\n",
    "######## dropping unnecessary columns in contingency table\n",
    "loan_crosstab.drop(columns=['Charged Off', 'Fully Paid', 'sum_of_charged_off_and_fully_paid'], inplace=True)\n",
    "print(loan_crosstab)\n",
    "\n",
    "loan_crosstab.sort_values(by='charged_off_percentage').plot.bar(stacked=False, figsize=(14,7),  title='Delinq for 2 year versus Loan Status')\n"
   ]
  },
  {
   "cell_type": "markdown",
   "metadata": {},
   "source": [
    "# Delinq_2 years - customers who were delinquent for 7 and 8 times in last 2 years were tend to default 25% and 50% of the times. But this factor wouldn't help us much as waiting for such long time without any action would not be a wise thing to do"
   ]
  },
  {
   "cell_type": "code",
   "execution_count": 40,
   "metadata": {},
   "outputs": [
    {
     "name": "stdout",
     "output_type": "stream",
     "text": [
      "loan_status  charged_off_percentage  fully_paid_percentage\n",
      "addr_state                                                \n",
      "AK                            20.00                  80.00\n",
      "AL                            11.98                  88.02\n",
      "AR                            11.66                  88.34\n",
      "AZ                            14.29                  85.71\n",
      "CA                            15.50                  84.50\n",
      "CO                            12.07                  87.93\n",
      "CT                            12.36                  87.64\n",
      "DC                             6.80                  93.20\n",
      "DE                            10.28                  89.72\n",
      "FL                            17.40                  82.60\n",
      "GA                            15.48                  84.52\n",
      "HI                            17.50                  82.50\n",
      "IA                             0.00                 100.00\n",
      "ID                             0.00                 100.00\n",
      "IL                            13.24                  86.76\n",
      "IN                             0.00                 100.00\n",
      "KS                            10.79                  89.21\n",
      "KY                            14.47                  85.53\n",
      "LA                            12.75                  87.25\n",
      "MA                            11.96                  88.04\n",
      "MD                            15.18                  84.82\n",
      "MI                            14.22                  85.78\n",
      "MN                            13.09                  86.91\n",
      "MO                            16.17                  83.83\n",
      "MS                            10.53                  89.47\n",
      "MT                            12.99                  87.01\n",
      "NC                            14.60                  85.40\n",
      "NE                             0.00                 100.00\n",
      "NH                            14.94                  85.06\n",
      "NJ                            15.40                  84.60\n",
      "NM                            16.76                  83.24\n",
      "NV                            21.96                  78.04\n",
      "NY                            12.96                  87.04\n",
      "OH                            12.63                  87.37\n",
      "OK                            13.88                  86.12\n",
      "OR                            16.43                  83.57\n",
      "PA                            11.67                  88.33\n",
      "RI                            13.16                  86.84\n",
      "SC                            14.45                  85.55\n",
      "SD                            18.64                  81.36\n",
      "TN                            20.00                  80.00\n",
      "TX                            11.58                  88.42\n",
      "UT                            15.35                  84.65\n",
      "VA                            12.82                  87.18\n",
      "VT                            11.76                  88.24\n",
      "WA                            15.26                  84.74\n",
      "WI                            14.22                  85.78\n",
      "WV                            12.27                  87.73\n",
      "WY                             4.00                  96.00\n"
     ]
    },
    {
     "data": {
      "text/plain": [
       "<matplotlib.axes._subplots.AxesSubplot at 0x1fbadc08ac8>"
      ]
     },
     "execution_count": 40,
     "metadata": {},
     "output_type": "execute_result"
    },
    {
     "data": {
      "image/png": "[encoded data removed]",
      "text/plain": [
       "<Figure size 1008x504 with 1 Axes>"
      ]
     },
     "metadata": {
      "needs_background": "light"
     },
     "output_type": "display_data"
    }
   ],
   "source": [
    "################# Bivariate analysis on loan status and addr_state\n",
    "\n",
    "\n",
    "loan_crosstab = pd.crosstab(loan['addr_state'], loan['loan_status'])\n",
    "loan_crosstab['sum_of_charged_off_and_fully_paid'] = loan_crosstab['Charged Off'] + loan_crosstab['Fully Paid']\n",
    "\n",
    "### calculating percentages\n",
    "loan_crosstab['charged_off_percentage'] = round((loan_crosstab['Charged Off']/loan_crosstab.sum_of_charged_off_and_fully_paid)*100, 2)\n",
    "loan_crosstab['fully_paid_percentage'] = round((loan_crosstab['Fully Paid']/loan_crosstab.sum_of_charged_off_and_fully_paid)*100, 2)\n",
    "\n",
    "######## dropping unnecessary columns in contingency table\n",
    "loan_crosstab.drop(columns=['Charged Off', 'Fully Paid', 'sum_of_charged_off_and_fully_paid'], inplace=True)\n",
    "print(loan_crosstab)\n",
    "loan_crosstab.sort_values(by='charged_off_percentage').plot.bar(stacked=False, figsize=(14,7),  title='Address State versus Loan Status')\n"
   ]
  },
  {
   "cell_type": "markdown",
   "metadata": {},
   "source": [
    "# TN, AK and NV has seen most number of default cases compared to the other states. Lending club should be extra cautious while lending in these states "
   ]
  },
  {
   "cell_type": "code",
   "execution_count": 41,
   "metadata": {},
   "outputs": [
    {
     "name": "stdout",
     "output_type": "stream",
     "text": [
      "loan_status  charged_off_percentage  fully_paid_percentage\n",
      "emp_length                                                \n",
      "1 year                        14.05                  85.95\n",
      "10+ years                     15.47                  84.53\n",
      "2 years                       13.05                  86.95\n",
      "3 years                       13.79                  86.21\n",
      "4 years                       13.42                  86.58\n",
      "5 years                       14.12                  85.88\n",
      "6 years                       13.97                  86.03\n",
      "7 years                       15.25                  84.75\n",
      "8 years                       13.87                  86.13\n",
      "9 years                       12.77                  87.23\n",
      "< 1 year                      13.93                  86.07\n"
     ]
    },
    {
     "data": {
      "text/plain": [
       "<matplotlib.axes._subplots.AxesSubplot at 0x1fbad228eb8>"
      ]
     },
     "execution_count": 41,
     "metadata": {},
     "output_type": "execute_result"
    },
    {
     "data": {
      "image/png": "[encoded data removed]",
      "text/plain": [
       "<Figure size 1008x504 with 1 Axes>"
      ]
     },
     "metadata": {
      "needs_background": "light"
     },
     "output_type": "display_data"
    }
   ],
   "source": [
    "################# Bivariate analysis two categorical variables loan status and employee length\n",
    "\n",
    "loan_crosstab = pd.crosstab(loan['emp_length'], loan['loan_status'], normalize=True).round(4)*100 \n",
    "loan_crosstab['sum_of_charged_off_and_fully_paid'] = loan_crosstab['Charged Off'] + loan_crosstab['Fully Paid']\n",
    "\n",
    "### calculating percentages\n",
    "loan_crosstab['charged_off_percentage'] = round((loan_crosstab['Charged Off']/loan_crosstab.sum_of_charged_off_and_fully_paid)*100, 2)\n",
    "loan_crosstab['fully_paid_percentage'] = round((loan_crosstab['Fully Paid']/loan_crosstab.sum_of_charged_off_and_fully_paid)*100, 2)\n",
    "\n",
    "######## dropping unnecessary columns in contingency table\n",
    "loan_crosstab.drop(columns=['Charged Off', 'Fully Paid', 'sum_of_charged_off_and_fully_paid'], inplace=True)\n",
    "\n",
    "print(loan_crosstab)\n",
    "\n",
    "loan_crosstab.sort_values(by='charged_off_percentage').plot.bar(stacked=False, figsize=(14,7),  title='Employee Experience versus Loan Status')\n"
   ]
  },
  {
   "cell_type": "markdown",
   "metadata": {},
   "source": [
    "# Could not find any correlation between employee length and loan defaulting"
   ]
  }
 ],
 "metadata": {
  "kernelspec": {
   "display_name": "Python 3",
   "language": "python",
   "name": "python3"
  },
  "language_info": {
   "codemirror_mode": {
    "name": "ipython",
    "version": 3
   },
   "file_extension": ".py",
   "mimetype": "text/x-python",
   "name": "python",
   "nbconvert_exporter": "python",
   "pygments_lexer": "ipython3",
   "version": "3.7.3"
  }
 },
 "nbformat": 4,
 "nbformat_minor": 2
}
